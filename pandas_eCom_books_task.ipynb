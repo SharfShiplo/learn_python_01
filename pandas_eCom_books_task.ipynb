{
  "nbformat": 4,
  "nbformat_minor": 0,
  "metadata": {
    "colab": {
      "provenance": [],
      "toc_visible": true,
      "authorship_tag": "ABX9TyOyVKS5ZGnJYdi0mh0hMRY5",
      "include_colab_link": true
    },
    "kernelspec": {
      "name": "python3",
      "display_name": "Python 3"
    },
    "language_info": {
      "name": "python"
    }
  },
  "cells": [
    {
      "cell_type": "markdown",
      "metadata": {
        "id": "view-in-github",
        "colab_type": "text"
      },
      "source": [
        "<a href=\"https://colab.research.google.com/github/SharfShiplo/learn_python_01/blob/main/pandas_eCom_books_task.ipynb\" target=\"_parent\"><img src=\"https://colab.research.google.com/assets/colab-badge.svg\" alt=\"Open In Colab\"/></a>"
      ]
    },
    {
      "cell_type": "markdown",
      "source": [
        "## **Pandas**"
      ],
      "metadata": {
        "id": "WB0x9lZ4spy3"
      }
    },
    {
      "cell_type": "code",
      "source": [
        "import numpy as np"
      ],
      "metadata": {
        "id": "-lIdTD8os-fO"
      },
      "execution_count": 6,
      "outputs": []
    },
    {
      "cell_type": "code",
      "source": [
        "import pandas as pd"
      ],
      "metadata": {
        "id": "TC0JekSnZWry"
      },
      "execution_count": 7,
      "outputs": []
    },
    {
      "cell_type": "code",
      "source": [
        "import json"
      ],
      "metadata": {
        "id": "wzmVkvtYB38f"
      },
      "execution_count": 8,
      "outputs": []
    },
    {
      "cell_type": "markdown",
      "source": [
        "**Reading & converting csv file into a DataFrame**"
      ],
      "metadata": {
        "id": "dmVMWXLwTTjP"
      }
    },
    {
      "cell_type": "code",
      "source": [
        "books = pd.read_csv('books.csv')"
      ],
      "metadata": {
        "id": "Oog27aGXTSeL"
      },
      "execution_count": 9,
      "outputs": []
    },
    {
      "cell_type": "code",
      "source": [
        "books.info()"
      ],
      "metadata": {
        "colab": {
          "base_uri": "https://localhost:8080/"
        },
        "id": "thLvbMz1TplS",
        "outputId": "4394d9fe-4b8f-4376-fef0-a3929e6ee589"
      },
      "execution_count": 13,
      "outputs": [
        {
          "output_type": "stream",
          "name": "stdout",
          "text": [
            "<class 'pandas.core.frame.DataFrame'>\n",
            "RangeIndex: 558 entries, 0 to 557\n",
            "Data columns (total 6 columns):\n",
            " #   Column          Non-Null Count  Dtype  \n",
            "---  ------          --------------  -----  \n",
            " 0   name            558 non-null    object \n",
            " 1   original_price  522 non-null    float64\n",
            " 2   sale_price      522 non-null    float64\n",
            " 3   author          496 non-null    object \n",
            " 4   author_details  496 non-null    object \n",
            " 5   details         496 non-null    object \n",
            "dtypes: float64(2), object(4)\n",
            "memory usage: 26.3+ KB\n"
          ]
        }
      ]
    },
    {
      "cell_type": "code",
      "source": [
        "filtered_index = books[ (books['sale_price'].isnull()) & (books['details'].isnull()) ].index"
      ],
      "metadata": {
        "id": "Z3a1fDuuUxOF"
      },
      "execution_count": 14,
      "outputs": []
    },
    {
      "cell_type": "code",
      "source": [
        "books.drop(filtered_index, inplace=True)"
      ],
      "metadata": {
        "id": "mP7RuzpIugd8"
      },
      "execution_count": 15,
      "outputs": []
    },
    {
      "cell_type": "code",
      "source": [
        "books['author'].fillna('The Best Writer In BD', inplace=True)"
      ],
      "metadata": {
        "id": "rNiKZvjW9XxJ"
      },
      "execution_count": 16,
      "outputs": []
    },
    {
      "cell_type": "code",
      "source": [
        "def convert_str_to_dict(dtl):\n",
        "  if isinstance(dtl, dict):\n",
        "    dtl_as_to_json = str(dtl).replace(\"'\", '\"')\n",
        "    return json.loads(dtl_as_to_json)\n",
        "  elif isinstance(dtl, str):\n",
        "    return json.loads(dtl.replace(\"'\", '\"'))\n",
        "  else:\n",
        "     return \"This book needs detail info\"\n",
        "\n",
        "\n",
        "\n"
      ],
      "metadata": {
        "id": "eYSd_MRNMf8z"
      },
      "execution_count": 25,
      "outputs": []
    },
    {
      "cell_type": "code",
      "source": [
        "books['details'] = books['details'].apply(lambda dtl: convert_str_to_dict(dtl))\n"
      ],
      "metadata": {
        "id": "LL4BH0xhU26e"
      },
      "execution_count": 26,
      "outputs": []
    },
    {
      "cell_type": "markdown",
      "source": [
        "**Test**"
      ],
      "metadata": {
        "id": "m7eD-a2Ym7Q6"
      }
    },
    {
      "cell_type": "code",
      "source": [
        "books['details'].iloc[13]"
      ],
      "metadata": {
        "colab": {
          "base_uri": "https://localhost:8080/",
          "height": 36
        },
        "id": "EBJupa7McVEJ",
        "outputId": "6f61d76d-6ff4-4374-9786-25b691fc35e3"
      },
      "execution_count": 29,
      "outputs": [
        {
          "output_type": "execute_result",
          "data": {
            "text/plain": [
              "'This book needs detail info'"
            ],
            "application/vnd.google.colaboratory.intrinsic+json": {
              "type": "string"
            }
          },
          "metadata": {},
          "execution_count": 29
        }
      ]
    },
    {
      "cell_type": "code",
      "source": [
        "def get_publisher(publ):\n",
        "  if isinstance(publ, dict):\n",
        "    return publ.get('Publisher')\n",
        "  else:\n",
        "    return 'Smart Bengal Publisher'\n"
      ],
      "metadata": {
        "id": "Ba1NSyF0Y5QH"
      },
      "execution_count": 42,
      "outputs": []
    },
    {
      "cell_type": "code",
      "source": [
        "def get_value_from_details(obj, req_key):\n",
        "  if req_key in obj:\n",
        "    return obj.get(req_key)\n",
        "  else:\n",
        "    return f\"Need to add {req_key} information\"\n",
        "\n",
        "    "
      ],
      "metadata": {
        "id": "ULr2XQTSTLdE"
      },
      "execution_count": 45,
      "outputs": []
    },
    {
      "cell_type": "markdown",
      "source": [
        "# **Okay**"
      ],
      "metadata": {
        "id": "kCaVHW8EnBi9"
      }
    },
    {
      "cell_type": "code",
      "source": [
        "books['Publisher'] = books['details'].apply(lambda df: get_publisher(df))"
      ],
      "metadata": {
        "id": "Q9elWPUDRlQs"
      },
      "execution_count": 39,
      "outputs": []
    },
    {
      "cell_type": "code",
      "source": [
        "books['Country'] = books['details'].apply(lambda df: get_value_from_details(df, 'Country'))"
      ],
      "metadata": {
        "id": "LlNZNSsdjDm6"
      },
      "execution_count": 46,
      "outputs": []
    },
    {
      "cell_type": "code",
      "source": [
        "books['Cover'] = books['details'].apply(lambda df: get_value_from_details(df, 'Cover'))"
      ],
      "metadata": {
        "id": "dQ4CbshAZoT5"
      },
      "execution_count": 48,
      "outputs": []
    },
    {
      "cell_type": "code",
      "source": [
        "books['Pages'] = books['details'].apply(lambda df: get_value_from_details(df, 'Pages'))"
      ],
      "metadata": {
        "id": "N4EWUEkYWh6w"
      },
      "execution_count": 50,
      "outputs": []
    },
    {
      "cell_type": "code",
      "source": [
        "books['author_details'].fillna('Need to add author details', inplace=True)"
      ],
      "metadata": {
        "id": "dAU4-9CCWuPY"
      },
      "execution_count": 52,
      "outputs": []
    }
  ]
}